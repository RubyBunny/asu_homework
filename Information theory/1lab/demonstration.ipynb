{
 "cells": [
  {
   "cell_type": "code",
   "execution_count": 1,
   "metadata": {},
   "outputs": [],
   "source": [
    "from program.frequency_analyzer import FrequencyAnalyzer\n",
    "from program.cryptographer import Cryptographer\n",
    "from program.file_reader import FileReader"
   ]
  },
  {
   "cell_type": "code",
   "execution_count": 2,
   "metadata": {},
   "outputs": [],
   "source": [
    "text_1 = FileReader.get_text_from_file(\"./text1.txt\")\n",
    "publicAnalysis = FrequencyAnalyzer.frequency_analyze(text_1)"
   ]
  },
  {
   "cell_type": "code",
   "execution_count": 3,
   "metadata": {},
   "outputs": [],
   "source": [
    "KEY = list(\"яюэьыъщшчцхфутсрпонмлкйизжёедгвба\")\n",
    "\n",
    "text_2 = FileReader.get_text_from_file(\"./text2.txt\")\n",
    "cipher_text = Cryptographer.encode_text(text_2, KEY)"
   ]
  },
  {
   "cell_type": "code",
   "execution_count": 4,
   "metadata": {},
   "outputs": [],
   "source": [
    "cipherAnalysis = FrequencyAnalyzer.frequency_analyze(cipher_text)"
   ]
  },
  {
   "cell_type": "code",
   "execution_count": 5,
   "metadata": {},
   "outputs": [
    {
     "name": "stdout",
     "output_type": "stream",
     "text": [
      "третий менг полсе мня доезо рожмения, в которьй дне динусо мелятг сет и в которьй я посубис такие бумелнье помарки, в ледг балов утра карс иваньб рачыумис деня, умарив нам ладой доей зосовой хсопушкой – ич лахарной ыудази на паске – по духе. он лмесас цто так несовко, бто чамес оырачок доезо анзеса, вилевший на м\n"
     ]
    }
   ],
   "source": [
    "# print(text_2[86:400])\n",
    "print(Cryptographer.decode_text(cipher_text[86:400], cipherAnalysis, publicAnalysis))"
   ]
  }
 ],
 "metadata": {
  "kernelspec": {
   "display_name": "Python 3",
   "language": "python",
   "name": "python3"
  },
  "language_info": {
   "codemirror_mode": {
    "name": "ipython",
    "version": 3
   },
   "file_extension": ".py",
   "mimetype": "text/x-python",
   "name": "python",
   "nbconvert_exporter": "python",
   "pygments_lexer": "ipython3",
   "version": "3.11.0"
  },
  "orig_nbformat": 4,
  "vscode": {
   "interpreter": {
    "hash": "c261aea317cc0286b3b3261fbba9abdec21eaa57589985bb7a274bf54d6cc0a7"
   }
  }
 },
 "nbformat": 4,
 "nbformat_minor": 2
}
