{
 "cells": [
  {
   "cell_type": "code",
   "execution_count": 1,
   "metadata": {},
   "outputs": [],
   "source": [
    "from frequency_analysis.frequency_analyzer import FrequencyAnalyzer\n",
    "from frequency_analysis.frequency_analysis_formatter import frequency_analysis_formatter"
   ]
  },
  {
   "cell_type": "code",
   "execution_count": 2,
   "metadata": {},
   "outputs": [
    {
     "name": "stdout",
     "output_type": "stream",
     "text": [
      "о: 7515\n",
      "е: 5978\n",
      "а: 5444\n",
      "н: 4611\n",
      "т: 4402\n",
      "и: 4212\n",
      "с: 3432\n",
      "в: 2987\n",
      "р: 2858\n",
      "л: 2742\n",
      "к: 2530\n",
      "м: 2223\n",
      "у: 2090\n",
      "д: 1968\n",
      "п: 1874\n",
      "я: 1458\n",
      "ь: 1304\n",
      "ы: 1269\n",
      "г: 1177\n",
      "ч: 1171\n",
      "з: 1153\n",
      "б: 1102\n",
      "ж: 747\n",
      "й: 712\n",
      "ш: 681\n",
      "х: 586\n",
      "ю: 483\n",
      "щ: 272\n",
      "ц: 191\n",
      "э: 179\n",
      "ф: 99\n",
      "ъ: 14\n"
     ]
    }
   ],
   "source": [
    "\n",
    "analyzer = FrequencyAnalyzer(\"text.txt\")\n",
    "frequency_analysis_formatter(analyzer.frequency_analyse())"
   ]
  }
 ],
 "metadata": {
  "kernelspec": {
   "display_name": "Python 3",
   "language": "python",
   "name": "python3"
  },
  "language_info": {
   "codemirror_mode": {
    "name": "ipython",
    "version": 3
   },
   "file_extension": ".py",
   "mimetype": "text/x-python",
   "name": "python",
   "nbconvert_exporter": "python",
   "pygments_lexer": "ipython3",
   "version": "3.11.1"
  },
  "orig_nbformat": 4,
  "vscode": {
   "interpreter": {
    "hash": "e7370f93d1d0cde622a1f8e1c04877d8463912d04d973331ad4851f04de6915a"
   }
  }
 },
 "nbformat": 4,
 "nbformat_minor": 2
}
