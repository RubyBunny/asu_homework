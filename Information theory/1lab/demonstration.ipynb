{
 "cells": [
  {
   "cell_type": "code",
   "execution_count": null,
   "metadata": {},
   "outputs": [],
   "source": [
    "from frequency_analysis.frequency_analyzer import FrequencyAnalyzer\n",
    "from file_reader.file_reader import FileReader\n",
    "from cipher.cipher import Cipher"
   ]
  },
  {
   "cell_type": "code",
   "execution_count": null,
   "metadata": {},
   "outputs": [],
   "source": [
    "text = FileReader.get_text_from_file(\"./text.txt\")\n",
    "war_and_pice = FileReader.get_text_from_file(\"./warandpice.txt\")"
   ]
  },
  {
   "cell_type": "code",
   "execution_count": null,
   "metadata": {},
   "outputs": [],
   "source": [
    "encoded_text = Cipher.encode_text(text, list(\"гдеёжзийклмнопрстуфхцчшщъыьэюяабв\"))\n",
    "letters_key = FrequencyAnalyzer.frequency_analyze(encoded_text)\n",
    "analysis = FrequencyAnalyzer.frequency_analyze(war_and_pice)\n",
    "decoded_text = Cipher.decode_text(encoded_text, letters_key, analysis)"
   ]
  },
  {
   "cell_type": "code",
   "execution_count": null,
   "metadata": {},
   "outputs": [],
   "source": [
    "FileReader.write_text_in_file(\"./encoded.txt\", encoded_text)\n",
    "FileReader.write_text_in_file(\"./decoded.txt\", decoded_text)"
   ]
  }
 ],
 "metadata": {
  "kernelspec": {
   "display_name": "Python 3",
   "language": "python",
   "name": "python3"
  },
  "language_info": {
   "codemirror_mode": {
    "name": "ipython",
    "version": 3
   },
   "file_extension": ".py",
   "mimetype": "text/x-python",
   "name": "python",
   "nbconvert_exporter": "python",
   "pygments_lexer": "ipython3",
   "version": "3.11.0"
  },
  "orig_nbformat": 4,
  "vscode": {
   "interpreter": {
    "hash": "c261aea317cc0286b3b3261fbba9abdec21eaa57589985bb7a274bf54d6cc0a7"
   }
  }
 },
 "nbformat": 4,
 "nbformat_minor": 2
}
