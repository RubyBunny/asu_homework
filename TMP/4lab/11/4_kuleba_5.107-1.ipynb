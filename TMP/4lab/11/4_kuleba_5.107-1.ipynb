{
 "cells": [
  {
   "cell_type": "code",
   "execution_count": null,
   "metadata": {},
   "outputs": [],
   "source": [
    "import timeit\n",
    "import random\n",
    "import numpy\n",
    "import matplotlib as mpl\n",
    "import matplotlib.pyplot as plt\n",
    "from typing import List"
   ]
  },
  {
   "cell_type": "code",
   "execution_count": null,
   "metadata": {},
   "outputs": [],
   "source": [
    "def generate_list(n: int) -> List:\n",
    "    return [random.randint(0, n) for i in range(n)]"
   ]
  },
  {
   "cell_type": "code",
   "execution_count": null,
   "metadata": {},
   "outputs": [],
   "source": [
    "def oddEvenSort(array: List) -> List:\n",
    "    arr_len = len(array)\n",
    "\n",
    "    for i in range(arr_len):\n",
    "        start_point = 0 if i % 2 == 0 else 1\n",
    "        for j in range(start_point, arr_len - 1, 2):\n",
    "            if array[j] > array[j+1]:\n",
    "                array[j], array[j+1] = array[j+1], array[j]\n",
    "    \n",
    "    return array"
   ]
  },
  {
   "cell_type": "code",
   "execution_count": null,
   "metadata": {},
   "outputs": [],
   "source": [
    "def speed_tester() -> List:\n",
    "    speed = []\n",
    "    for i in range(1_000, 11_000, 1_000):\n",
    "        arr = generate_list(i)\n",
    "        speed.append(timeit.Timer(lambda: oddEvenSort(arr)).repeat(10, 1))\n",
    "    \n",
    "    return speed"
   ]
  },
  {
   "cell_type": "code",
   "execution_count": null,
   "metadata": {},
   "outputs": [],
   "source": [
    "speed = speed_tester()\n",
    "speed"
   ]
  },
  {
   "cell_type": "code",
   "execution_count": null,
   "metadata": {},
   "outputs": [],
   "source": [
    "np_arr = numpy.array(speed)\n",
    "np_arr"
   ]
  },
  {
   "cell_type": "code",
   "execution_count": null,
   "metadata": {},
   "outputs": [],
   "source": [
    "np_average = numpy.mean(np_arr, axis=1)\n",
    "np_average"
   ]
  },
  {
   "cell_type": "code",
   "execution_count": null,
   "metadata": {},
   "outputs": [],
   "source": [
    "np_std = numpy.std(np_arr, axis=1)\n",
    "np_std"
   ]
  },
  {
   "cell_type": "code",
   "execution_count": null,
   "metadata": {},
   "outputs": [],
   "source": [
    "ax = plt.subplot()\n",
    "\n",
    "x_line = range(1_000, 11_000, 1_000)\n",
    "\n",
    "ax.plot(x_line, np_average, label=\"вектор средних значений времени работы\")\n",
    "ax.plot(x_line, np_std, label=\"среднеквадратичное отклонение времени работы\")\n",
    "\n",
    "ax.set_xlabel(\"кол-во сортируемых элементов\")\n",
    "ax.set_ylabel(\"Время работы (s)\")\n",
    "ax.legend()\n",
    "ax.grid()"
   ]
  }
 ],
 "metadata": {
  "kernelspec": {
   "display_name": "Python 3",
   "language": "python",
   "name": "python3"
  },
  "language_info": {
   "codemirror_mode": {
    "name": "ipython",
    "version": 3
   },
   "file_extension": ".py",
   "mimetype": "text/x-python",
   "name": "python",
   "nbconvert_exporter": "python",
   "pygments_lexer": "ipython3",
   "version": "3.11.1"
  },
  "orig_nbformat": 4,
  "vscode": {
   "interpreter": {
    "hash": "e7370f93d1d0cde622a1f8e1c04877d8463912d04d973331ad4851f04de6915a"
   }
  }
 },
 "nbformat": 4,
 "nbformat_minor": 2
}
