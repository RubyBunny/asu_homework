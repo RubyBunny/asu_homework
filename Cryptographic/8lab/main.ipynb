{
 "cells": [
  {
   "cell_type": "code",
   "execution_count": 1,
   "metadata": {},
   "outputs": [],
   "source": [
    "from package.algorithms import IDEA\n",
    "from package.modes import CBC"
   ]
  },
  {
   "cell_type": "code",
   "execution_count": 2,
   "metadata": {},
   "outputs": [],
   "source": [
    "cbc = CBC(IDEA())"
   ]
  },
  {
   "cell_type": "code",
   "execution_count": 3,
   "metadata": {},
   "outputs": [],
   "source": [
    "key = 0x0000000010002000300040005000600070008\n",
    "initial_vector = 0x0001000200030004"
   ]
  },
  {
   "cell_type": "code",
   "execution_count": 4,
   "metadata": {},
   "outputs": [],
   "source": [
    "with open(\"./input.txt\", \"br\") as file:\n",
    "    data = file.read()\n",
    "\n",
    "byte_list = map(lambda x: x.as_integer_ratio()[0], data)\n",
    "open_text_binary_string = \"\".join(map(lambda x: \"{:08b}\".format(x), byte_list))"
   ]
  },
  {
   "cell_type": "code",
   "execution_count": 5,
   "metadata": {},
   "outputs": [],
   "source": [
    "encrypted_data = cbc.encrypt(open_text_binary_string, key, initial_vector)"
   ]
  },
  {
   "cell_type": "code",
   "execution_count": 6,
   "metadata": {},
   "outputs": [],
   "source": [
    "byte_list = [encrypted_data[i*8 : (i+1)*8] for i in range(len(encrypted_data) // 8)]\n",
    "byte_data = list(map(lambda x: int(x, 2), byte_list))\n",
    "\n",
    "with open(\"./encrypt.txt\", \"wb\") as file:\n",
    "    file.write(bytearray(byte_data))\n"
   ]
  },
  {
   "cell_type": "code",
   "execution_count": 7,
   "metadata": {},
   "outputs": [],
   "source": [
    "with open(\"./encrypt.txt\", \"rb\") as file:\n",
    "    data = file.read()\n",
    "\n",
    "byte_list = list(map(lambda x: x.as_integer_ratio()[0], data))\n",
    "encrypted_text_binary_string = \"\".join(map(lambda x: \"{:08b}\".format(x), byte_list))"
   ]
  },
  {
   "cell_type": "code",
   "execution_count": 8,
   "metadata": {},
   "outputs": [],
   "source": [
    "decrypted_data = cbc.decrypt(encrypted_text_binary_string, key, initial_vector)"
   ]
  },
  {
   "cell_type": "code",
   "execution_count": 9,
   "metadata": {},
   "outputs": [],
   "source": [
    "byte_list = [decrypted_data[i*8 : (i+1)*8] for i in range(len(decrypted_data) // 8)]\n",
    "byte_data = list(map(lambda x: int(x, 2), byte_list))\n",
    "\n",
    "with open(\"./decrypt.txt\", \"wb\") as file:\n",
    "    file.write(bytearray(byte_data))\n"
   ]
  }
 ],
 "metadata": {
  "kernelspec": {
   "display_name": "Python 3",
   "language": "python",
   "name": "python3"
  },
  "language_info": {
   "codemirror_mode": {
    "name": "ipython",
    "version": 3
   },
   "file_extension": ".py",
   "mimetype": "text/x-python",
   "name": "python",
   "nbconvert_exporter": "python",
   "pygments_lexer": "ipython3",
   "version": "3.11.0"
  }
 },
 "nbformat": 4,
 "nbformat_minor": 2
}
